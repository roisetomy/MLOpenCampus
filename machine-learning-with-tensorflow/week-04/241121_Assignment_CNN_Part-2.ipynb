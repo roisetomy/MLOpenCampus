{
  "cells": [
    {
      "cell_type": "markdown",
      "metadata": {
        "id": "Bte1ngygIzYD"
      },
      "source": [
        "# Assignment CNNs - Part 2: Transfer Learning Strategies with Fast Food Classification\n"
      ]
    },
    {
      "cell_type": "markdown",
      "metadata": {
        "id": "lq_Hc0aIW4-p"
      },
      "source": [
        "In this notebook, we will:\n",
        "1. Import and prepare the Fast Food Classification dataset\n",
        "2. Implement three different transfer learning strategies:\n",
        "   - Feature extraction (frozen pre-trained model)\n",
        "   - Fine-tuning last few layers\n",
        "   - Full fine-tuning\n",
        "3. Get experience on how sample size affects the strategy's performance\n",
        "4. Get experience of the impact of choosing the right/wrong learning rate\n",
        "5. Get experience with the different transfer learning strategies\n",
        "\n",
        "## 0. Introduction\n",
        "\n",
        "Transfer learning is a powerful technique that allows us to leverage pre-trained models for new tasks. However, different transfer learning strategies are suitable for different scenarios, particularly depending on:\n",
        "- Sample size of the target dataset\n",
        "- Similarity between source and target tasks\n",
        "- Available computational resources\n",
        "\n",
        "In this exercise, we'll explore different transfer learning strategies using the \"Fast Food Classification Dataset - V2\" from Kaggle."
      ]
    },
    {
      "cell_type": "markdown",
      "metadata": {
        "id": "tVcGvEOOf5i-"
      },
      "source": [
        "## 1. Data Import and Cleaning\n",
        "\n",
        "1. Download the [\"Fast Food Classification Dataset - V2\"](https://www.kaggle.com/datasets/utkarshsaxenadn/fast-food-classification-dataset/data) from Kaggle.\n",
        "\n",
        "2. Unzip and ensure that the dataset in Colab is structured as follows:\n",
        "\n",
        "```\n",
        "|\n",
        "|-- Fast Food Classification V2\n",
        "|   |-- TFRecords\n",
        "|   |-- Test\n",
        "|   |-- Train\n",
        "|   `-- Valid\n",
        "|-- sample_data\n",
        "`-- archive.zip\n",
        "```\n",
        "\n",
        "`Fast Food Classification V2` and `archive.zip` should be on the same level as the already existing `sample_data` directory from Colab. You can ignore the `TFRecords` subdirectory in the following tasks."
      ]
    },
    {
      "cell_type": "code",
      "execution_count": 1,
      "metadata": {
        "colab": {
          "base_uri": "https://localhost:8080/"
        },
        "id": "n5811abzgIiK",
        "outputId": "2c36e0b8-0916-4c6d-fd9e-a0f367ffb7f3"
      },
      "outputs": [
        {
          "output_type": "stream",
          "name": "stdout",
          "text": [
            "  % Total    % Received % Xferd  Average Speed   Time    Time     Time  Current\n",
            "                                 Dload  Upload   Total   Spent    Left  Speed\n",
            "  0     0    0     0    0     0      0      0 --:--:-- --:--:-- --:--:--     0\n",
            "100  820M  100  820M    0     0  69.0M      0  0:00:11  0:00:11 --:--:-- 66.2M\n"
          ]
        }
      ],
      "source": [
        "#!/bin/bash\n",
        "!curl -L -o archive.zip https://www.kaggle.com/api/v1/datasets/download/utkarshsaxenadn/fast-food-classification-dataset"
      ]
    },
    {
      "cell_type": "code",
      "execution_count": 2,
      "metadata": {
        "id": "SytLYfaw6GyZ"
      },
      "outputs": [],
      "source": [
        "!unzip -q archive.zip"
      ]
    },
    {
      "cell_type": "markdown",
      "metadata": {
        "id": "53kVJ_3nW4-v"
      },
      "source": [
        "3. Apply the provided `delete_invalid_images` function to check and remove any corrupted or invalid images in each of the three dataset directories."
      ]
    },
    {
      "cell_type": "code",
      "execution_count": 7,
      "metadata": {
        "id": "SRkFVeV2W4-w",
        "outputId": "a77bfd35-0777-42de-eb05-4106819514e4",
        "colab": {
          "base_uri": "https://localhost:8080/"
        }
      },
      "outputs": [
        {
          "output_type": "stream",
          "name": "stdout",
          "text": [
            "Invalid and unsupported image cleanup completed.\n"
          ]
        }
      ],
      "source": [
        "import os\n",
        "from PIL import Image\n",
        "\n",
        "# Define the paths to the directories\n",
        "directories = [\n",
        "    \"Fast Food Classification V2/Train\",\n",
        "    \"Fast Food Classification V2/Valid\",\n",
        "    \"Fast Food Classification V2/Test\"\n",
        "]\n",
        "\n",
        "# Define supported image file extensions\n",
        "supported_extensions = {'.jpg', '.jpeg', '.png', '.gif', '.bmp'}\n",
        "\n",
        "def delete_invalid_images(directory):\n",
        "    \"\"\"Goes through a directory and deletes any invalid or unsupported images.\"\"\"\n",
        "    for root, _, files in os.walk(directory):\n",
        "        for file in files:\n",
        "            file_path = os.path.join(root, file)\n",
        "            # Check if the file has a supported extension\n",
        "            if not any(file.lower().endswith(ext) for ext in supported_extensions):\n",
        "                print(f\"Deleting unsupported file: {file_path}\")\n",
        "                os.remove(file_path)\n",
        "                continue\n",
        "\n",
        "            try:\n",
        "                with Image.open(file_path) as img:\n",
        "                    img.load()  # Ensure the image content can be read\n",
        "                    if img.format not in [\"JPEG\", \"PNG\", \"GIF\", \"BMP\"]:\n",
        "                        raise IOError(\"Unsupported image format\")\n",
        "            except (IOError, SyntaxError, AttributeError) as e:\n",
        "                print(f\"Deleting invalid or corrupted image: {file_path}\")\n",
        "                os.remove(file_path)\n",
        "\n",
        "# Run the function for each directory\n",
        "for dir_path in directories:\n",
        "    delete_invalid_images(dir_path)\n",
        "\n",
        "print(\"Invalid and unsupported image cleanup completed.\")"
      ]
    },
    {
      "cell_type": "markdown",
      "metadata": {
        "id": "PBvTBaGh6SoJ"
      },
      "source": [
        "4. To reduce training time, only three classes are considered for the following training."
      ]
    },
    {
      "cell_type": "code",
      "execution_count": 8,
      "metadata": {
        "id": "lRKkSOw16SEc",
        "outputId": "9f52eb0c-c6ed-4946-f91c-86814a596040",
        "colab": {
          "base_uri": "https://localhost:8080/"
        }
      },
      "outputs": [
        {
          "output_type": "stream",
          "name": "stdout",
          "text": [
            "Removing folder: Fast Food Classification V2/Train/Donut\n",
            "Removing folder: Fast Food Classification V2/Train/Sandwich\n",
            "Removing folder: Fast Food Classification V2/Train/Fries\n",
            "Removing folder: Fast Food Classification V2/Train/Baked Potato\n",
            "Removing folder: Fast Food Classification V2/Train/Crispy Chicken\n",
            "Removing folder: Fast Food Classification V2/Train/Taco\n",
            "Removing folder: Fast Food Classification V2/Train/Taquito\n",
            "Removing folder: Fast Food Classification V2/Test/Donut\n",
            "Removing folder: Fast Food Classification V2/Test/Sandwich\n",
            "Removing folder: Fast Food Classification V2/Test/Fries\n",
            "Removing folder: Fast Food Classification V2/Test/Baked Potato\n",
            "Removing folder: Fast Food Classification V2/Test/Crispy Chicken\n",
            "Removing folder: Fast Food Classification V2/Test/Taco\n",
            "Removing folder: Fast Food Classification V2/Test/Taquito\n",
            "Removing folder: Fast Food Classification V2/Valid/Donut\n",
            "Removing folder: Fast Food Classification V2/Valid/Sandwich\n",
            "Removing folder: Fast Food Classification V2/Valid/Fries\n",
            "Removing folder: Fast Food Classification V2/Valid/Baked Potato\n",
            "Removing folder: Fast Food Classification V2/Valid/Crispy Chicken\n",
            "Removing folder: Fast Food Classification V2/Valid/Taco\n",
            "Removing folder: Fast Food Classification V2/Valid/Taquito\n",
            "Folder cleanup completed.\n"
          ]
        }
      ],
      "source": [
        "# prompt: In each of the Train, Test, and Valid folder in the folder \"Fast Food Classification V2\" that were just unzipped, only keep the folders Taquito, Crispy Chicken, and Donut. Remove the others.\n",
        "\n",
        "import os\n",
        "import shutil\n",
        "\n",
        "# Define the root directory of the dataset\n",
        "dataset_root = \"Fast Food Classification V2\"\n",
        "\n",
        "# Define the subdirectories (Train, Test, Valid)\n",
        "subdirectories = [\"Train\", \"Test\", \"Valid\"]\n",
        "\n",
        "# Define the classes to keep\n",
        "classes_to_keep = [\"Pizza\", \"Hot Dog\", \"Burger\"]\n",
        "\n",
        "# Loop through each subdirectory\n",
        "for subdir in subdirectories:\n",
        "  subdir_path = os.path.join(dataset_root, subdir)\n",
        "\n",
        "  # Loop through each folder (class) in the subdirectory\n",
        "  for class_folder in os.listdir(subdir_path):\n",
        "    class_folder_path = os.path.join(subdir_path, class_folder)\n",
        "\n",
        "    # Check if it's a directory and if it's not one of the classes to keep\n",
        "    if os.path.isdir(class_folder_path) and class_folder not in classes_to_keep:\n",
        "      print(f\"Removing folder: {class_folder_path}\")\n",
        "      shutil.rmtree(class_folder_path)\n",
        "\n",
        "print(\"Folder cleanup completed.\")"
      ]
    },
    {
      "cell_type": "markdown",
      "metadata": {
        "id": "pmyVO2AmW4-x"
      },
      "source": [
        "### Creation of Different Training Dataset Sizes\n",
        "\n",
        "   - Small: 50 images per class\n",
        "   - Medium: 200 images per class  \n",
        "   - Full: All available training images\n",
        "\n",
        "To reduce training time, only three classes are considered in the training.\n",
        "\n",
        "The validation and test sets will remain constant to ensure fair comparison."
      ]
    },
    {
      "cell_type": "code",
      "execution_count": 31,
      "metadata": {
        "id": "LUXtbLyXW4-x"
      },
      "outputs": [],
      "source": [
        "import os\n",
        "import numpy as np\n",
        "import shutil\n",
        "from pathlib import Path\n",
        "\n",
        "# Constants\n",
        "SMALL_SAMPLES = 50  # images per class\n",
        "MEDIUM_SAMPLES = 200 # images per class\n",
        "\n",
        "def create_sample_dataset(source_dir, target_dir, samples_per_class):\n",
        "    \"\"\"Creates a smaller dataset by randomly sampling from source directory\"\"\"\n",
        "    if os.path.exists(target_dir):\n",
        "        shutil.rmtree(target_dir)\n",
        "\n",
        "    # Create target directory\n",
        "    os.makedirs(target_dir)\n",
        "\n",
        "    # For each class directory\n",
        "    for class_dir in os.listdir(source_dir):\n",
        "        source_class_path = os.path.join(source_dir, class_dir)\n",
        "        target_class_path = os.path.join(target_dir, class_dir)\n",
        "\n",
        "        if os.path.isdir(source_class_path):\n",
        "            # Create class directory in target\n",
        "            os.makedirs(target_class_path)\n",
        "\n",
        "            # Get list of all images\n",
        "            images = os.listdir(source_class_path)\n",
        "\n",
        "            # Randomly sample specified number of images\n",
        "            selected_images = np.random.choice(\n",
        "                images,\n",
        "                size=min(samples_per_class, len(images)),\n",
        "                replace=False\n",
        "            )\n",
        "\n",
        "            # Copy selected images\n",
        "            for img in selected_images:\n",
        "                shutil.copy2(\n",
        "                    os.path.join(source_class_path, img),\n",
        "                    os.path.join(target_class_path, img)\n",
        "                )\n",
        "\n",
        "# Create sampled datasets\n",
        "create_sample_dataset(\"./Fast Food Classification V2/Train\", \"./Train_Small\", SMALL_SAMPLES)\n",
        "create_sample_dataset(\"./Fast Food Classification V2/Train\", \"./Train_Medium\", MEDIUM_SAMPLES)"
      ]
    },
    {
      "cell_type": "markdown",
      "metadata": {
        "id": "D0xznoUZW4-y"
      },
      "source": [
        "## 2. Data Preprocessing\n",
        "\n",
        "1. Load the training, validation and test datasets using the `image_dataset_from_directory` function. Specifically, set appropriate values for `label_mode`, `batch_size`, `image_size` and `shuffle`. Each dataset should get a fixed `seed` of `42`.\n",
        "\n",
        "Checkout the documentation for details:\n",
        "https://www.tensorflow.org/api_docs/python/tf/keras/preprocessing/image_dataset_from_directory\n",
        "\n"
      ]
    },
    {
      "cell_type": "code",
      "execution_count": 97,
      "metadata": {
        "id": "h6dKFV2IW4-z",
        "outputId": "cab0cc9a-b4aa-4cde-eb70-a747750d4037",
        "colab": {
          "base_uri": "https://localhost:8080/"
        }
      },
      "outputs": [
        {
          "output_type": "stream",
          "name": "stdout",
          "text": [
            "Found 150 files belonging to 3 classes.\n",
            "Found 600 files belonging to 3 classes.\n",
            "Found 4499 files belonging to 3 classes.\n",
            "Found 900 files belonging to 3 classes.\n",
            "Found 600 files belonging to 3 classes.\n"
          ]
        }
      ],
      "source": [
        "import tensorflow as tf\n",
        "\n",
        "# Constants\n",
        "LABEL_MODE = 'categorical' # TODO: Set appropriate value\n",
        "SEED = 42 # TODO: Choose a value\n",
        "IMAGE_HEIGHT = 150 # TODO: Set appropriate value\n",
        "IMAGE_WIDTH = 150 # TODO: Set appropriate value\n",
        "#Tip: Models that will be used with this data work usually best when the input images are of the same size as in the original training of the model.\n",
        "BATCH_SIZE = 32\n",
        "\n",
        "# Load the small dataset\n",
        "train_data_small = tf.keras.preprocessing.image_dataset_from_directory(\n",
        "    \"Train_Small\",\n",
        "    label_mode=LABEL_MODE,\n",
        "    seed=SEED,  # Any fixed value works for reproducibility\n",
        "    image_size=(IMAGE_HEIGHT, IMAGE_WIDTH),\n",
        "    batch_size=BATCH_SIZE,\n",
        "    shuffle=100 #TODO: Set appropriate value\n",
        ")\n",
        "\n",
        "# Load the medium dataset\n",
        "train_data_medium = tf.keras.preprocessing.image_dataset_from_directory(\n",
        "    \"Train_Medium\",\n",
        "    label_mode=LABEL_MODE,\n",
        "    seed=SEED,  # Any fixed value works for reproducibility\n",
        "    image_size=(IMAGE_HEIGHT, IMAGE_WIDTH),\n",
        "    batch_size=BATCH_SIZE,\n",
        "    shuffle=100 #TODO: Set appropriate value\n",
        ")\n",
        "\n",
        "# Load the full dataset\n",
        "train_data_full = tf.keras.preprocessing.image_dataset_from_directory(\n",
        "    \"Fast Food Classification V2/Train\",\n",
        "    label_mode=LABEL_MODE,\n",
        "    seed=SEED,  # Any fixed value works for reproducibility\n",
        "    image_size=(IMAGE_HEIGHT, IMAGE_WIDTH),\n",
        "    batch_size=BATCH_SIZE,\n",
        "    shuffle=100 #TODO: Set appropriate value\n",
        ")\n",
        "\n",
        "# Load validation dataset\n",
        "validation_data = tf.keras.preprocessing.image_dataset_from_directory(\n",
        "    \"Fast Food Classification V2/Valid\",\n",
        "    label_mode='int',\n",
        "    image_size=(IMAGE_HEIGHT, IMAGE_WIDTH),\n",
        "    batch_size=BATCH_SIZE,\n",
        "    shuffle=None #TODO: Set appropriate value\n",
        ")\n",
        "\n",
        "# Load the test dataset\n",
        "test_data = tf.keras.preprocessing.image_dataset_from_directory(\n",
        "    \"Fast Food Classification V2/Test\",\n",
        "    label_mode='int',\n",
        "    image_size=(IMAGE_HEIGHT, IMAGE_WIDTH),\n",
        "    batch_size=BATCH_SIZE,\n",
        "    shuffle=None #TODO: Set appropriate value\n",
        ")\n",
        "\n",
        "# Optimize the datasets for training\n",
        "# PREFETCH_BUFFER_SIZE = tf.data.AUTOTUNE\n",
        "\n",
        "# train_data_small = (train_data_small\n",
        "#                     .cache()\n",
        "#                     .prefetch(PREFETCH_BUFFER_SIZE))\n",
        "\n",
        "# train_data_medium = (train_data_medium\n",
        "#                      .cache()\n",
        "#                      .prefetch(PREFETCH_BUFFER_SIZE))\n",
        "\n",
        "# train_data_full = (train_data_full\n",
        "#                    .cache()\n",
        "#                    .prefetch(PREFETCH_BUFFER_SIZE))\n",
        "\n",
        "\n"
      ]
    },
    {
      "cell_type": "markdown",
      "metadata": {
        "id": "-dNVt06Gz828"
      },
      "source": [
        "## 3. Model Definitions"
      ]
    },
    {
      "cell_type": "markdown",
      "metadata": {
        "id": "HkEKsc7CW4-0"
      },
      "source": [
        "Imports and Constants\n"
      ]
    },
    {
      "cell_type": "code",
      "execution_count": 98,
      "metadata": {
        "id": "fpJXUjNZW4-0"
      },
      "outputs": [],
      "source": [
        "import tensorflow as tf\n",
        "\n",
        "CLASSES = 3 # TODO: Set the number of classes\n",
        "IMAGE_HEIGHT = 150 # TODO: Choose an appropriate image height\n",
        "IMAGE_WIDTH = 150 # TODO: Choose an appropriate image width\n",
        "\n"
      ]
    },
    {
      "cell_type": "markdown",
      "metadata": {
        "id": "UEFeJj34W4-0"
      },
      "source": [
        "### Feature Extraction\n",
        "\n",
        "1. Create a feature extraction model using the Inception V3 architecture.\n",
        "2. Freeze all layers of the base model.\n",
        "3. Add a new classification head with global average pooling, dropout, and a dense layer.\n"
      ]
    },
    {
      "cell_type": "code",
      "execution_count": 99,
      "metadata": {
        "id": "BYsDXojA0Wm3"
      },
      "outputs": [],
      "source": [
        "def create_feature_extraction_model():\n",
        "    \"\"\"Creates model with frozen base layers (feature extraction)\n",
        "\n",
        "    Discussion points:\n",
        "    1. Why might a simpler classification head be sufficient for transfer learning?\n",
        "    2. When would you consider adding more layers to the classification head?\n",
        "    3. How does the number of trainable parameters affect training with small datasets?\n",
        "    \"\"\"\n",
        "    # Load pre-trained InceptionV3 with correct input size\n",
        "    base_model = tf.keras.applications.InceptionV3(\n",
        "        weights='imagenet',\n",
        "        include_top=False,\n",
        "        input_shape=(IMAGE_HEIGHT, IMAGE_WIDTH, 3)\n",
        "    )\n",
        "\n",
        "    # Freeze all layers for feature extraction\n",
        "    base_model.trainable = False\n",
        "\n",
        "    # Simple classification head\n",
        "    # - GlobalAveragePooling2D reduces spatial dimensions\n",
        "    # - Final Dense layer maps to class probabilities\n",
        "    model = tf.keras.Sequential([\n",
        "        base_model,\n",
        "        tf.keras.layers.GlobalAveragePooling2D(),\n",
        "        tf.keras.layers.Dropout(0.2),\n",
        "        tf.keras.layers.Dense(CLASSES, activation='softmax')\n",
        "    ])\n",
        "\n",
        "    return model"
      ]
    },
    {
      "cell_type": "markdown",
      "metadata": {
        "id": "KUK36M-NW4-1"
      },
      "source": [
        "### Fine-Tuning Last Few Layers\n",
        "\n",
        "1. Create a fine-tuning model using the Inception V3 architecture.\n",
        "2. Unfreeze the last few layers of the base model.\n",
        "3. Add a new classification head with global average pooling, dropout, and a dense layer.\n"
      ]
    },
    {
      "cell_type": "code",
      "execution_count": 100,
      "metadata": {
        "id": "_khIIV-zW4-1"
      },
      "outputs": [],
      "source": [
        "def create_fine_tuning_model():\n",
        "    \"\"\"Creates model with last few layers unfrozen for fine-tuning\"\"\"\n",
        "\n",
        "    # Load pre-trained InceptionV3 with correct input size\n",
        "    base_model = tf.keras.applications.InceptionV3(\n",
        "        weights='imagenet',\n",
        "        include_top=False,\n",
        "        input_shape=(IMAGE_HEIGHT, IMAGE_WIDTH, 3)\n",
        "    )\n",
        "\n",
        "    # Freeze all layers except last few blocks\n",
        "    base_model.trainable = True\n",
        "    for layer in base_model.layers[:-20]:  # Unfreeze last 20 layers\n",
        "        layer.trainable = False\n",
        "\n",
        "    model = tf.keras.Sequential([\n",
        "        base_model,\n",
        "        tf.keras.layers.GlobalAveragePooling2D(),\n",
        "        tf.keras.layers.Dropout(0.2),\n",
        "        tf.keras.layers.Dense(CLASSES, activation='softmax')\n",
        "    ])\n",
        "\n",
        "    return model\n"
      ]
    },
    {
      "cell_type": "markdown",
      "metadata": {
        "id": "mPRIXMlxW4-2"
      },
      "source": [
        "### Full Fine-Tuning\n",
        "\n",
        "1. Create a fine-tuning model using the Inception V3 architecture.\n",
        "2. Unfreeze all layers of the base model.\n",
        "3. Add a new classification head with global average pooling, dropout, and a dense layer."
      ]
    },
    {
      "cell_type": "code",
      "execution_count": 101,
      "metadata": {
        "id": "troP8F0VW4-2"
      },
      "outputs": [],
      "source": [
        "def create_full_fine_tuning_model():\n",
        "    \"\"\"Creates model with all layers unfrozen for full fine-tuning\"\"\"\n",
        "    base_model = tf.keras.applications.InceptionV3(\n",
        "        weights='imagenet',\n",
        "        include_top=False,\n",
        "        input_shape=(IMAGE_HEIGHT, IMAGE_WIDTH, 3)\n",
        "    )\n",
        "\n",
        "    # Make all layers trainable\n",
        "    base_model.trainable = True\n",
        "\n",
        "    model = tf.keras.Sequential([\n",
        "        base_model,\n",
        "        tf.keras.layers.GlobalAveragePooling2D(),\n",
        "        tf.keras.layers.Dense(1024, activation='relu'),\n",
        "        tf.keras.layers.Dropout(0.2),\n",
        "        tf.keras.layers.Dense(CLASSES, activation='softmax')\n",
        "    ])\n",
        "\n",
        "    return model\n"
      ]
    },
    {
      "cell_type": "markdown",
      "metadata": {
        "id": "CVds6rKVW4-2"
      },
      "source": [
        "## 4. Model Training\n",
        "\n",
        "## Tasks\n",
        "\n",
        "1. Optimize two different models either using the same transfer learning strategy and two of the three datasets with different sizes or alternatively use one of the datasets with two different learning strategies.\n",
        "\n",
        "2. Find out what the arguments of the early stopping callback function mean.\n",
        "\n",
        "3. Choose appropriate learning rates.\n",
        "Tips for choosing it:\n",
        "- Start with the Default: Begin with the Adam optimizer's default learning rate of 0.001. This is often a good starting point.\n",
        "- When fine-tuning (especially full fine-tuning), consider using a smaller learning rate than the default. This helps prevent large updates to the pre-trained weights, which could disrupt the learned features. A learning rate of 1e-4 or 1e-5 is a good starting point.\n",
        "- The best learning rate will depend on the specific dataset and model. Experiment with different values and observe the training and validation performance. Look for a learning rate that allows the model to converge smoothly without overshooting or getting stuck in a local minimum.\n",
        "\n"
      ]
    },
    {
      "cell_type": "markdown",
      "metadata": {
        "id": "xEvwEFNfSRtR"
      },
      "source": [
        "### Example for Training of the Feature Extraction Model with the Small Dataset"
      ]
    },
    {
      "cell_type": "code",
      "execution_count": 102,
      "metadata": {
        "id": "dN9XU7xYdW2n",
        "outputId": "194a248a-5935-4e96-f4e3-010dda8f59c3",
        "colab": {
          "base_uri": "https://localhost:8080/",
          "height": 281
        }
      },
      "outputs": [
        {
          "output_type": "display_data",
          "data": {
            "text/plain": [
              "\u001b[1mModel: \"sequential_26\"\u001b[0m\n"
            ],
            "text/html": [
              "<pre style=\"white-space:pre;overflow-x:auto;line-height:normal;font-family:Menlo,'DejaVu Sans Mono',consolas,'Courier New',monospace\"><span style=\"font-weight: bold\">Model: \"sequential_26\"</span>\n",
              "</pre>\n"
            ]
          },
          "metadata": {}
        },
        {
          "output_type": "display_data",
          "data": {
            "text/plain": [
              "┏━━━━━━━━━━━━━━━━━━━━━━━━━━━━━━━━━━━━━━┳━━━━━━━━━━━━━━━━━━━━━━━━━━━━━┳━━━━━━━━━━━━━━━━━┓\n",
              "┃\u001b[1m \u001b[0m\u001b[1mLayer (type)                        \u001b[0m\u001b[1m \u001b[0m┃\u001b[1m \u001b[0m\u001b[1mOutput Shape               \u001b[0m\u001b[1m \u001b[0m┃\u001b[1m \u001b[0m\u001b[1m        Param #\u001b[0m\u001b[1m \u001b[0m┃\n",
              "┡━━━━━━━━━━━━━━━━━━━━━━━━━━━━━━━━━━━━━━╇━━━━━━━━━━━━━━━━━━━━━━━━━━━━━╇━━━━━━━━━━━━━━━━━┩\n",
              "│ inception_v3 (\u001b[38;5;33mFunctional\u001b[0m)            │ (\u001b[38;5;45mNone\u001b[0m, \u001b[38;5;34m3\u001b[0m, \u001b[38;5;34m3\u001b[0m, \u001b[38;5;34m2048\u001b[0m)          │      \u001b[38;5;34m21,802,784\u001b[0m │\n",
              "├──────────────────────────────────────┼─────────────────────────────┼─────────────────┤\n",
              "│ global_average_pooling2d_26          │ (\u001b[38;5;45mNone\u001b[0m, \u001b[38;5;34m2048\u001b[0m)                │               \u001b[38;5;34m0\u001b[0m │\n",
              "│ (\u001b[38;5;33mGlobalAveragePooling2D\u001b[0m)             │                             │                 │\n",
              "├──────────────────────────────────────┼─────────────────────────────┼─────────────────┤\n",
              "│ dropout_26 (\u001b[38;5;33mDropout\u001b[0m)                 │ (\u001b[38;5;45mNone\u001b[0m, \u001b[38;5;34m2048\u001b[0m)                │               \u001b[38;5;34m0\u001b[0m │\n",
              "├──────────────────────────────────────┼─────────────────────────────┼─────────────────┤\n",
              "│ dense_26 (\u001b[38;5;33mDense\u001b[0m)                     │ (\u001b[38;5;45mNone\u001b[0m, \u001b[38;5;34m3\u001b[0m)                   │           \u001b[38;5;34m6,147\u001b[0m │\n",
              "└──────────────────────────────────────┴─────────────────────────────┴─────────────────┘\n"
            ],
            "text/html": [
              "<pre style=\"white-space:pre;overflow-x:auto;line-height:normal;font-family:Menlo,'DejaVu Sans Mono',consolas,'Courier New',monospace\">┏━━━━━━━━━━━━━━━━━━━━━━━━━━━━━━━━━━━━━━┳━━━━━━━━━━━━━━━━━━━━━━━━━━━━━┳━━━━━━━━━━━━━━━━━┓\n",
              "┃<span style=\"font-weight: bold\"> Layer (type)                         </span>┃<span style=\"font-weight: bold\"> Output Shape                </span>┃<span style=\"font-weight: bold\">         Param # </span>┃\n",
              "┡━━━━━━━━━━━━━━━━━━━━━━━━━━━━━━━━━━━━━━╇━━━━━━━━━━━━━━━━━━━━━━━━━━━━━╇━━━━━━━━━━━━━━━━━┩\n",
              "│ inception_v3 (<span style=\"color: #0087ff; text-decoration-color: #0087ff\">Functional</span>)            │ (<span style=\"color: #00d7ff; text-decoration-color: #00d7ff\">None</span>, <span style=\"color: #00af00; text-decoration-color: #00af00\">3</span>, <span style=\"color: #00af00; text-decoration-color: #00af00\">3</span>, <span style=\"color: #00af00; text-decoration-color: #00af00\">2048</span>)          │      <span style=\"color: #00af00; text-decoration-color: #00af00\">21,802,784</span> │\n",
              "├──────────────────────────────────────┼─────────────────────────────┼─────────────────┤\n",
              "│ global_average_pooling2d_26          │ (<span style=\"color: #00d7ff; text-decoration-color: #00d7ff\">None</span>, <span style=\"color: #00af00; text-decoration-color: #00af00\">2048</span>)                │               <span style=\"color: #00af00; text-decoration-color: #00af00\">0</span> │\n",
              "│ (<span style=\"color: #0087ff; text-decoration-color: #0087ff\">GlobalAveragePooling2D</span>)             │                             │                 │\n",
              "├──────────────────────────────────────┼─────────────────────────────┼─────────────────┤\n",
              "│ dropout_26 (<span style=\"color: #0087ff; text-decoration-color: #0087ff\">Dropout</span>)                 │ (<span style=\"color: #00d7ff; text-decoration-color: #00d7ff\">None</span>, <span style=\"color: #00af00; text-decoration-color: #00af00\">2048</span>)                │               <span style=\"color: #00af00; text-decoration-color: #00af00\">0</span> │\n",
              "├──────────────────────────────────────┼─────────────────────────────┼─────────────────┤\n",
              "│ dense_26 (<span style=\"color: #0087ff; text-decoration-color: #0087ff\">Dense</span>)                     │ (<span style=\"color: #00d7ff; text-decoration-color: #00d7ff\">None</span>, <span style=\"color: #00af00; text-decoration-color: #00af00\">3</span>)                   │           <span style=\"color: #00af00; text-decoration-color: #00af00\">6,147</span> │\n",
              "└──────────────────────────────────────┴─────────────────────────────┴─────────────────┘\n",
              "</pre>\n"
            ]
          },
          "metadata": {}
        },
        {
          "output_type": "display_data",
          "data": {
            "text/plain": [
              "\u001b[1m Total params: \u001b[0m\u001b[38;5;34m21,808,931\u001b[0m (83.19 MB)\n"
            ],
            "text/html": [
              "<pre style=\"white-space:pre;overflow-x:auto;line-height:normal;font-family:Menlo,'DejaVu Sans Mono',consolas,'Courier New',monospace\"><span style=\"font-weight: bold\"> Total params: </span><span style=\"color: #00af00; text-decoration-color: #00af00\">21,808,931</span> (83.19 MB)\n",
              "</pre>\n"
            ]
          },
          "metadata": {}
        },
        {
          "output_type": "display_data",
          "data": {
            "text/plain": [
              "\u001b[1m Trainable params: \u001b[0m\u001b[38;5;34m6,147\u001b[0m (24.01 KB)\n"
            ],
            "text/html": [
              "<pre style=\"white-space:pre;overflow-x:auto;line-height:normal;font-family:Menlo,'DejaVu Sans Mono',consolas,'Courier New',monospace\"><span style=\"font-weight: bold\"> Trainable params: </span><span style=\"color: #00af00; text-decoration-color: #00af00\">6,147</span> (24.01 KB)\n",
              "</pre>\n"
            ]
          },
          "metadata": {}
        },
        {
          "output_type": "display_data",
          "data": {
            "text/plain": [
              "\u001b[1m Non-trainable params: \u001b[0m\u001b[38;5;34m21,802,784\u001b[0m (83.17 MB)\n"
            ],
            "text/html": [
              "<pre style=\"white-space:pre;overflow-x:auto;line-height:normal;font-family:Menlo,'DejaVu Sans Mono',consolas,'Courier New',monospace\"><span style=\"font-weight: bold\"> Non-trainable params: </span><span style=\"color: #00af00; text-decoration-color: #00af00\">21,802,784</span> (83.17 MB)\n",
              "</pre>\n"
            ]
          },
          "metadata": {}
        }
      ],
      "source": [
        "LEARNING_RATE = 0.0001 # Choose appropriately\n",
        "\n",
        "# Settings for the Feature Extraction Model on the small dataset\n",
        "model_feature_extraction_small = create_feature_extraction_model()\n",
        "model_feature_extraction_small.compile(\n",
        "    optimizer=tf.keras.optimizers.Adam(LEARNING_RATE),\n",
        "    loss=tf.keras.losses.SparseCategoricalCrossentropy(),\n",
        "    metrics=['accuracy']\n",
        ")\n",
        "# Model Summary\n",
        "model_feature_extraction_small.summary()\n"
      ]
    },
    {
      "cell_type": "code",
      "source": [
        "def to_integer_labels(images, labels):\n",
        "    return images, tf.argmax(labels, axis=1)\n",
        "\n",
        "train_data_small = train_data_small.map(to_integer_labels)\n"
      ],
      "metadata": {
        "id": "8mwkUoVrCNVo"
      },
      "execution_count": 103,
      "outputs": []
    },
    {
      "cell_type": "code",
      "execution_count": 104,
      "metadata": {
        "id": "YoHtBg-0W4-2",
        "outputId": "70a8861c-c673-450b-a511-d0fd08fc38c6",
        "colab": {
          "base_uri": "https://localhost:8080/"
        }
      },
      "outputs": [
        {
          "output_type": "stream",
          "name": "stdout",
          "text": [
            "Epoch 1/100\n",
            "\u001b[1m5/5\u001b[0m \u001b[32m━━━━━━━━━━━━━━━━━━━━\u001b[0m\u001b[37m\u001b[0m \u001b[1m23s\u001b[0m 3s/step - accuracy: 0.2652 - loss: 46.8593 - val_accuracy: 0.3078 - val_loss: 35.7390\n",
            "Epoch 2/100\n",
            "\u001b[1m5/5\u001b[0m \u001b[32m━━━━━━━━━━━━━━━━━━━━\u001b[0m\u001b[37m\u001b[0m \u001b[1m2s\u001b[0m 364ms/step - accuracy: 0.2762 - loss: 41.5212 - val_accuracy: 0.3222 - val_loss: 25.3937\n",
            "Epoch 3/100\n",
            "\u001b[1m5/5\u001b[0m \u001b[32m━━━━━━━━━━━━━━━━━━━━\u001b[0m\u001b[37m\u001b[0m \u001b[1m3s\u001b[0m 382ms/step - accuracy: 0.3495 - loss: 25.0908 - val_accuracy: 0.3089 - val_loss: 17.7535\n",
            "Epoch 4/100\n",
            "\u001b[1m5/5\u001b[0m \u001b[32m━━━━━━━━━━━━━━━━━━━━\u001b[0m\u001b[37m\u001b[0m \u001b[1m2s\u001b[0m 314ms/step - accuracy: 0.2852 - loss: 23.2274 - val_accuracy: 0.3289 - val_loss: 15.3408\n",
            "Epoch 5/100\n",
            "\u001b[1m5/5\u001b[0m \u001b[32m━━━━━━━━━━━━━━━━━━━━\u001b[0m\u001b[37m\u001b[0m \u001b[1m3s\u001b[0m 428ms/step - accuracy: 0.2840 - loss: 23.3816 - val_accuracy: 0.3544 - val_loss: 16.4486\n",
            "Epoch 6/100\n",
            "\u001b[1m5/5\u001b[0m \u001b[32m━━━━━━━━━━━━━━━━━━━━\u001b[0m\u001b[37m\u001b[0m \u001b[1m2s\u001b[0m 439ms/step - accuracy: 0.3098 - loss: 27.4779 - val_accuracy: 0.3667 - val_loss: 16.5848\n",
            "Epoch 7/100\n",
            "\u001b[1m5/5\u001b[0m \u001b[32m━━━━━━━━━━━━━━━━━━━━\u001b[0m\u001b[37m\u001b[0m \u001b[1m1s\u001b[0m 286ms/step - accuracy: 0.3670 - loss: 20.8384 - val_accuracy: 0.3711 - val_loss: 15.2756\n",
            "Epoch 8/100\n",
            "\u001b[1m5/5\u001b[0m \u001b[32m━━━━━━━━━━━━━━━━━━━━\u001b[0m\u001b[37m\u001b[0m \u001b[1m1s\u001b[0m 330ms/step - accuracy: 0.3567 - loss: 22.6931 - val_accuracy: 0.3756 - val_loss: 13.4193\n",
            "Epoch 9/100\n",
            "\u001b[1m5/5\u001b[0m \u001b[32m━━━━━━━━━━━━━━━━━━━━\u001b[0m\u001b[37m\u001b[0m \u001b[1m1s\u001b[0m 311ms/step - accuracy: 0.3668 - loss: 19.6609 - val_accuracy: 0.3656 - val_loss: 12.4601\n",
            "Epoch 10/100\n",
            "\u001b[1m5/5\u001b[0m \u001b[32m━━━━━━━━━━━━━━━━━━━━\u001b[0m\u001b[37m\u001b[0m \u001b[1m3s\u001b[0m 377ms/step - accuracy: 0.3249 - loss: 18.6076 - val_accuracy: 0.3600 - val_loss: 12.3577\n",
            "Epoch 11/100\n",
            "\u001b[1m5/5\u001b[0m \u001b[32m━━━━━━━━━━━━━━━━━━━━\u001b[0m\u001b[37m\u001b[0m \u001b[1m1s\u001b[0m 279ms/step - accuracy: 0.3231 - loss: 20.2943 - val_accuracy: 0.3678 - val_loss: 12.1083\n"
          ]
        }
      ],
      "source": [
        "# Model Training\n",
        "history_feature_extraction_small = model_feature_extraction_small.fit(\n",
        "    train_data_small,\n",
        "    validation_data=validation_data,\n",
        "    epochs=100,\n",
        "    callbacks=[\n",
        "        tf.keras.callbacks.EarlyStopping(\n",
        "            monitor='val_accuracy',\n",
        "            patience=3,\n",
        "            restore_best_weights=True\n",
        "        )\n",
        "    ]\n",
        ")"
      ]
    },
    {
      "cell_type": "code",
      "source": [
        "import matplotlib.pyplot as plt\n",
        "\n",
        "# Plot the model training history\n",
        "def plot_training_history(history):\n",
        "    # Extracting accuracy and loss from the history object\n",
        "    acc = history.history['accuracy']\n",
        "    val_acc = history.history['val_accuracy']\n",
        "    loss = history.history['loss']\n",
        "    val_loss = history.history['val_loss']\n",
        "\n",
        "    # Setting up the number of epochs for the x-axis\n",
        "    epochs_range = range(1, len(acc) + 1)\n",
        "\n",
        "    # Plotting training and validation accuracy\n",
        "    plt.figure(figsize=(10, 5))\n",
        "    plt.subplot(1, 2, 1)\n",
        "    plt.plot(epochs_range, acc, label='Training Accuracy')\n",
        "    plt.plot(epochs_range, val_acc, label='Validation Accuracy')\n",
        "    plt.xlabel('Epochs')\n",
        "    plt.ylabel('Accuracy')\n",
        "    plt.title('Training and Validation Accuracy')\n",
        "    plt.legend()\n",
        "\n",
        "\n",
        "plot_training_history(history_feature_extraction_small)"
      ],
      "metadata": {
        "id": "tKhUzLCOFE3Q",
        "outputId": "627b074c-9770-4ddf-d4be-7ca089dc4b11",
        "colab": {
          "base_uri": "https://localhost:8080/",
          "height": 487
        }
      },
      "execution_count": 105,
      "outputs": [
        {
          "output_type": "display_data",
          "data": {
            "text/plain": [
              "<Figure size 1000x500 with 1 Axes>"
            ],
            "image/png": "[encoded data removed]"
          },
          "metadata": {}
        }
      ]
    }
  ],
  "metadata": {
    "accelerator": "GPU",
    "colab": {
      "gpuType": "T4",
      "provenance": []
    },
    "kernelspec": {
      "display_name": "Python 3",
      "name": "python3"
    },
    "language_info": {
      "codemirror_mode": {
        "name": "ipython",
        "version": 3
      },
      "file_extension": ".py",
      "mimetype": "text/x-python",
      "name": "python",
      "nbconvert_exporter": "python",
      "pygments_lexer": "ipython3",
      "version": "3.10.12"
    }
  },
  "nbformat": 4,
  "nbformat_minor": 0
}