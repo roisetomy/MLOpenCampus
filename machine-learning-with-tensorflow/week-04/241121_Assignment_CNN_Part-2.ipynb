{
  "cells": [
    {
      "cell_type": "markdown",
      "metadata": {
        "id": "Bte1ngygIzYD"
      },
      "source": [
        "# Assignment CNNs - Part 2: Transfer Learning Strategies with Fast Food Classification\n"
      ]
    },
    {
      "cell_type": "markdown",
      "metadata": {
        "id": "lq_Hc0aIW4-p"
      },
      "source": [
        "In this notebook, we will:\n",
        "1. Import and prepare the Fast Food Classification dataset\n",
        "2. Implement three different transfer learning strategies:\n",
        "   - Feature extraction (frozen pre-trained model)\n",
        "   - Fine-tuning last few layers\n",
        "   - Full fine-tuning\n",
        "3. Get experience on how sample size affects the strategy's performance\n",
        "4. Get experience of the impact of choosing the right/wrong learning rate\n",
        "5. Get experience with the different transfer learning strategies\n",
        "\n",
        "## 0. Introduction\n",
        "\n",
        "Transfer learning is a powerful technique that allows us to leverage pre-trained models for new tasks. However, different transfer learning strategies are suitable for different scenarios, particularly depending on:\n",
        "- Sample size of the target dataset\n",
        "- Similarity between source and target tasks\n",
        "- Available computational resources\n",
        "\n",
        "In this exercise, we'll explore different transfer learning strategies using the \"Fast Food Classification Dataset - V2\" from Kaggle."
      ]
    },
    {
      "cell_type": "markdown",
      "metadata": {
        "id": "tVcGvEOOf5i-"
      },
      "source": [
        "## 1. Data Import and Cleaning\n",
        "\n",
        "1. Download the [\"Fast Food Classification Dataset - V2\"](https://www.kaggle.com/datasets/utkarshsaxenadn/fast-food-classification-dataset/data) from Kaggle.\n",
        "\n",
        "2. Unzip and ensure that the dataset in Colab is structured as follows:\n",
        "\n",
        "```\n",
        "|\n",
        "|-- Fast Food Classification V2\n",
        "|   |-- TFRecords\n",
        "|   |-- Test\n",
        "|   |-- Train\n",
        "|   `-- Valid\n",
        "|-- sample_data\n",
        "`-- archive.zip\n",
        "```\n",
        "\n",
        "`Fast Food Classification V2` and `archive.zip` should be on the same level as the already existing `sample_data` directory from Colab. You can ignore the `TFRecords` subdirectory in the following tasks."
      ]
    },
    {
      "cell_type": "code",
      "execution_count": 1,
      "metadata": {
        "colab": {
          "base_uri": "https://localhost:8080/"
        },
        "id": "n5811abzgIiK",
        "outputId": "42249319-b542-465d-e084-e37517e27bdd"
      },
      "outputs": [
        {
          "output_type": "stream",
          "name": "stdout",
          "text": [
            "  % Total    % Received % Xferd  Average Speed   Time    Time     Time  Current\n",
            "                                 Dload  Upload   Total   Spent    Left  Speed\n",
            "  0     0    0     0    0     0      0      0 --:--:-- --:--:-- --:--:--     0\n",
            "100  820M  100  820M    0     0   115M      0  0:00:07  0:00:07 --:--:--  132M\n"
          ]
        }
      ],
      "source": [
        "#!/bin/bash\n",
        "!curl -L -o archive.zip https://www.kaggle.com/api/v1/datasets/download/utkarshsaxenadn/fast-food-classification-dataset"
      ]
    },
    {
      "cell_type": "code",
      "execution_count": 2,
      "metadata": {
        "id": "SytLYfaw6GyZ"
      },
      "outputs": [],
      "source": [
        "!unzip -q archive.zip"
      ]
    },
    {
      "cell_type": "markdown",
      "metadata": {
        "id": "53kVJ_3nW4-v"
      },
      "source": [
        "3. Apply the provided `delete_invalid_images` function to check and remove any corrupted or invalid images in each of the three dataset directories."
      ]
    },
    {
      "cell_type": "code",
      "execution_count": 68,
      "metadata": {
        "id": "SRkFVeV2W4-w",
        "outputId": "f14acb54-8ea4-4897-9ab3-f78c6043c296",
        "colab": {
          "base_uri": "https://localhost:8080/"
        }
      },
      "outputs": [
        {
          "output_type": "stream",
          "name": "stdout",
          "text": [
            "Invalid and unsupported image cleanup completed.\n"
          ]
        }
      ],
      "source": [
        "import os\n",
        "from PIL import Image\n",
        "\n",
        "# Define the paths to the directories\n",
        "directories = [\n",
        "    \"Fast Food Classification V2/Train\",\n",
        "    \"Fast Food Classification V2/Valid\",\n",
        "    \"Fast Food Classification V2/Test\"\n",
        "]\n",
        "\n",
        "# Define supported image file extensions\n",
        "supported_extensions = {'.jpg', '.jpeg', '.png', '.gif', '.bmp'}\n",
        "\n",
        "def delete_invalid_images(directory):\n",
        "    \"\"\"Goes through a directory and deletes any invalid or unsupported images.\"\"\"\n",
        "    for root, _, files in os.walk(directory):\n",
        "        for file in files:\n",
        "            file_path = os.path.join(root, file)\n",
        "            # Check if the file has a supported extension\n",
        "            if not any(file.lower().endswith(ext) for ext in supported_extensions):\n",
        "                print(f\"Deleting unsupported file: {file_path}\")\n",
        "                os.remove(file_path)\n",
        "                continue\n",
        "\n",
        "            try:\n",
        "                with Image.open(file_path) as img:\n",
        "                    img.load()  # Ensure the image content can be read\n",
        "                    if img.format not in [\"JPEG\", \"PNG\", \"GIF\", \"BMP\"]:\n",
        "                        raise IOError(\"Unsupported image format\")\n",
        "            except (IOError, SyntaxError, AttributeError) as e:\n",
        "                print(f\"Deleting invalid or corrupted image: {file_path}\")\n",
        "                os.remove(file_path)\n",
        "\n",
        "# Run the function for each directory\n",
        "for dir_path in directories:\n",
        "    delete_invalid_images(dir_path)\n",
        "\n",
        "print(\"Invalid and unsupported image cleanup completed.\")"
      ]
    },
    {
      "cell_type": "markdown",
      "metadata": {
        "id": "PBvTBaGh6SoJ"
      },
      "source": [
        "4. To reduce training time, only three classes are considered for the following training."
      ]
    },
    {
      "cell_type": "code",
      "execution_count": 69,
      "metadata": {
        "id": "lRKkSOw16SEc",
        "outputId": "f012da4a-8ba7-4a8b-f628-e0df3252d855",
        "colab": {
          "base_uri": "https://localhost:8080/"
        }
      },
      "outputs": [
        {
          "output_type": "stream",
          "name": "stdout",
          "text": [
            "Folder cleanup completed.\n"
          ]
        }
      ],
      "source": [
        "# prompt: In each of the Train, Test, and Valid folder in the folder \"Fast Food Classification V2\" that were just unzipped, only keep the folders Taquito, Crispy Chicken, and Donut. Remove the others.\n",
        "\n",
        "import os\n",
        "import shutil\n",
        "\n",
        "# Define the root directory of the dataset\n",
        "dataset_root = \"Fast Food Classification V2\"\n",
        "\n",
        "# Define the subdirectories (Train, Test, Valid)\n",
        "subdirectories = [\"Train\", \"Test\", \"Valid\"]\n",
        "\n",
        "# Define the classes to keep\n",
        "classes_to_keep = [\"Pizza\", \"Hot Dog\", \"Burger\"]\n",
        "\n",
        "# Loop through each subdirectory\n",
        "for subdir in subdirectories:\n",
        "  subdir_path = os.path.join(dataset_root, subdir)\n",
        "\n",
        "  # Loop through each folder (class) in the subdirectory\n",
        "  for class_folder in os.listdir(subdir_path):\n",
        "    class_folder_path = os.path.join(subdir_path, class_folder)\n",
        "\n",
        "    # Check if it's a directory and if it's not one of the classes to keep\n",
        "    if os.path.isdir(class_folder_path) and class_folder not in classes_to_keep:\n",
        "      print(f\"Removing folder: {class_folder_path}\")\n",
        "      shutil.rmtree(class_folder_path)\n",
        "\n",
        "print(\"Folder cleanup completed.\")"
      ]
    },
    {
      "cell_type": "markdown",
      "metadata": {
        "id": "pmyVO2AmW4-x"
      },
      "source": [
        "### Creation of Different Training Dataset Sizes\n",
        "\n",
        "   - Small: 50 images per class\n",
        "   - Medium: 200 images per class  \n",
        "   - Full: All available training images\n",
        "\n",
        "To reduce training time, only three classes are considered in the training.\n",
        "\n",
        "The validation and test sets will remain constant to ensure fair comparison."
      ]
    },
    {
      "cell_type": "code",
      "execution_count": 70,
      "metadata": {
        "id": "LUXtbLyXW4-x"
      },
      "outputs": [],
      "source": [
        "import os\n",
        "import numpy as np\n",
        "import shutil\n",
        "from pathlib import Path\n",
        "\n",
        "# Constants\n",
        "SMALL_SAMPLES = 50  # images per class\n",
        "MEDIUM_SAMPLES = 200 # images per class\n",
        "\n",
        "def create_sample_dataset(source_dir, target_dir, samples_per_class):\n",
        "    \"\"\"Creates a smaller dataset by randomly sampling from source directory\"\"\"\n",
        "    if os.path.exists(target_dir):\n",
        "        shutil.rmtree(target_dir)\n",
        "\n",
        "    # Create target directory\n",
        "    os.makedirs(target_dir)\n",
        "\n",
        "    # For each class directory\n",
        "    for class_dir in os.listdir(source_dir):\n",
        "        source_class_path = os.path.join(source_dir, class_dir)\n",
        "        target_class_path = os.path.join(target_dir, class_dir)\n",
        "\n",
        "        if os.path.isdir(source_class_path):\n",
        "            # Create class directory in target\n",
        "            os.makedirs(target_class_path)\n",
        "\n",
        "            # Get list of all images\n",
        "            images = os.listdir(source_class_path)\n",
        "\n",
        "            # Randomly sample specified number of images\n",
        "            selected_images = np.random.choice(\n",
        "                images,\n",
        "                size=min(samples_per_class, len(images)),\n",
        "                replace=False\n",
        "            )\n",
        "\n",
        "            # Copy selected images\n",
        "            for img in selected_images:\n",
        "                shutil.copy2(\n",
        "                    os.path.join(source_class_path, img),\n",
        "                    os.path.join(target_class_path, img)\n",
        "                )\n",
        "\n",
        "# Create sampled datasets\n",
        "create_sample_dataset(\"./Fast Food Classification V2/Train\", \"./Train_Small\", SMALL_SAMPLES)\n",
        "create_sample_dataset(\"./Fast Food Classification V2/Train\", \"./Train_Medium\", MEDIUM_SAMPLES)"
      ]
    },
    {
      "cell_type": "markdown",
      "metadata": {
        "id": "D0xznoUZW4-y"
      },
      "source": [
        "## 2. Data Preprocessing\n",
        "\n",
        "1. Load the training, validation and test datasets using the `image_dataset_from_directory` function. Specifically, set appropriate values for `label_mode`, `batch_size`, `image_size` and `shuffle`. Each dataset should get a fixed `seed` of `42`.\n",
        "\n",
        "Checkout the documentation for details:\n",
        "https://www.tensorflow.org/api_docs/python/tf/keras/preprocessing/image_dataset_from_directory\n",
        "\n"
      ]
    },
    {
      "cell_type": "code",
      "execution_count": 83,
      "metadata": {
        "id": "h6dKFV2IW4-z",
        "outputId": "e3600387-aff7-4768-ab31-dc88d7551105",
        "colab": {
          "base_uri": "https://localhost:8080/"
        }
      },
      "outputs": [
        {
          "output_type": "stream",
          "name": "stdout",
          "text": [
            "Found 150 files belonging to 3 classes.\n",
            "Found 600 files belonging to 3 classes.\n",
            "Found 4499 files belonging to 3 classes.\n",
            "Found 900 files belonging to 3 classes.\n",
            "Found 600 files belonging to 3 classes.\n"
          ]
        }
      ],
      "source": [
        "import tensorflow as tf\n",
        "\n",
        "# Constants\n",
        "LABEL_MODE = 'categorical' # TODO: Set appropriate value\n",
        "SEED = 42 # TODO: Choose a value\n",
        "IMAGE_HEIGHT = 150 # TODO: Set appropriate value\n",
        "IMAGE_WIDTH = 150 # TODO: Set appropriate value\n",
        "#Tip: Models that will be used with this data work usually best when the input images are of the same size as in the original training of the model.\n",
        "BATCH_SIZE = 50\n",
        "\n",
        "# Load the small dataset\n",
        "train_data_small = tf.keras.preprocessing.image_dataset_from_directory(\n",
        "    \"Train_Small\",\n",
        "    label_mode=LABEL_MODE,\n",
        "    seed=SEED,  # Any fixed value works for reproducibility\n",
        "    image_size=(IMAGE_HEIGHT, IMAGE_WIDTH),\n",
        "    batch_size=BATCH_SIZE,\n",
        "    shuffle=100 #TODO: Set appropriate value\n",
        ")\n",
        "\n",
        "# Load the medium dataset\n",
        "train_data_medium = tf.keras.preprocessing.image_dataset_from_directory(\n",
        "    \"Train_Medium\",\n",
        "    label_mode=LABEL_MODE,\n",
        "    seed=SEED,  # Any fixed value works for reproducibility\n",
        "    image_size=(IMAGE_HEIGHT, IMAGE_WIDTH),\n",
        "    batch_size=BATCH_SIZE,\n",
        "    shuffle=100 #TODO: Set appropriate value\n",
        ")\n",
        "\n",
        "# Load the full dataset\n",
        "train_data_full = tf.keras.preprocessing.image_dataset_from_directory(\n",
        "    \"Fast Food Classification V2/Train\",\n",
        "    label_mode=LABEL_MODE,\n",
        "    seed=SEED,  # Any fixed value works for reproducibility\n",
        "    image_size=(IMAGE_HEIGHT, IMAGE_WIDTH),\n",
        "    batch_size=BATCH_SIZE,\n",
        "    shuffle=100 #TODO: Set appropriate value\n",
        ")\n",
        "\n",
        "# Load validation dataset\n",
        "validation_data = tf.keras.preprocessing.image_dataset_from_directory(\n",
        "    \"Fast Food Classification V2/Valid\",\n",
        "    label_mode='int',\n",
        "    image_size=(IMAGE_HEIGHT, IMAGE_WIDTH),\n",
        "    batch_size=BATCH_SIZE,\n",
        "    shuffle=100 #TODO: Set appropriate value\n",
        ")\n",
        "\n",
        "# Load the test dataset\n",
        "test_data = tf.keras.preprocessing.image_dataset_from_directory(\n",
        "    \"Fast Food Classification V2/Test\",\n",
        "    label_mode='int',\n",
        "    image_size=(IMAGE_HEIGHT, IMAGE_WIDTH),\n",
        "    batch_size=BATCH_SIZE,\n",
        "    shuffle=100 #TODO: Set appropriate value\n",
        ")\n",
        "\n",
        "# Optimize the datasets for training\n",
        "PREFETCH_BUFFER_SIZE = tf.data.AUTOTUNE\n",
        "\n",
        "train_data_small = (train_data_small\n",
        "                    .cache()\n",
        "                    .prefetch(PREFETCH_BUFFER_SIZE))\n",
        "\n",
        "train_data_medium = (train_data_medium\n",
        "                     .cache()\n",
        "                     .prefetch(PREFETCH_BUFFER_SIZE))\n",
        "\n",
        "train_data_full = (train_data_full\n",
        "                   .cache()\n",
        "                   .prefetch(PREFETCH_BUFFER_SIZE))"
      ]
    },
    {
      "cell_type": "markdown",
      "metadata": {
        "id": "JhHiV_bPXzrh"
      },
      "source": [
        "2. Add normalization and data augmentation as needed to the datasets.  \n",
        "Which normalization is best? (Tip: Check how the original model was trained.)  \n",
        "Which data augmentation makes sense?"
      ]
    },
    {
      "cell_type": "code",
      "execution_count": 84,
      "metadata": {
        "id": "M3dGM4DeXzrh"
      },
      "outputs": [],
      "source": [
        "# Training-specific preprocessing\n",
        "train_preprocessing = tf.keras.Sequential([\n",
        "    tf.keras.Input(shape=(150, 150, 3)),\n",
        "    # Rescale the image. Note the input shape is the desired size of the image: 150x150 with 3 bytes for color\n",
        "    tf.keras.layers.Rescaling(1./255)\n",
        "])\n",
        "\n",
        "data_augmentation = tf.keras.Sequential([\n",
        "    tf.keras.Input(shape=(150, 150, 3)),\n",
        "    tf.keras.layers.RandomFlip(\"horizontal\"),\n",
        "    tf.keras.layers.RandomRotation(0.4),\n",
        "    tf.keras.layers.RandomTranslation(0.2,0.2),\n",
        "    tf.keras.layers.RandomContrast(0.4),\n",
        "    tf.keras.layers.RandomZoom(0.2)\n",
        "    ])\n",
        "\n",
        "def preprocess_dataset(image, label):\n",
        "    image = train_preprocessing(image)  # Normalize\n",
        "    image = data_augmentation(image)  # Augmentation for training only\n",
        "    return image, label\n",
        "\n",
        "train_data_small = train_data_small.map(preprocess_dataset)\n",
        "validation_data = validation_data.map(lambda image, label: (train_preprocessing(image), label))"
      ]
    },
    {
      "cell_type": "markdown",
      "metadata": {
        "id": "-dNVt06Gz828"
      },
      "source": [
        "## 3. Model Definitions"
      ]
    },
    {
      "cell_type": "markdown",
      "metadata": {
        "id": "HkEKsc7CW4-0"
      },
      "source": [
        "Imports and Constants\n"
      ]
    },
    {
      "cell_type": "code",
      "execution_count": 85,
      "metadata": {
        "id": "fpJXUjNZW4-0"
      },
      "outputs": [],
      "source": [
        "import tensorflow as tf\n",
        "\n",
        "CLASSES = 3 # TODO: Set the number of classes\n",
        "IMAGE_HEIGHT = 150 # TODO: Choose an appropriate image height\n",
        "IMAGE_WIDTH = 150 # TODO: Choose an appropriate image width"
      ]
    },
    {
      "cell_type": "markdown",
      "metadata": {
        "id": "UEFeJj34W4-0"
      },
      "source": [
        "### Feature Extraction\n",
        "\n",
        "1. Create a feature extraction model using the Inception V3 architecture.\n",
        "2. Freeze all layers of the base model.\n",
        "3. Add a new classification head with global average pooling, dropout, and a dense layer.\n"
      ]
    },
    {
      "cell_type": "code",
      "execution_count": 86,
      "metadata": {
        "id": "BYsDXojA0Wm3"
      },
      "outputs": [],
      "source": [
        "def create_feature_extraction_model():\n",
        "    \"\"\"Creates model with frozen base layers (feature extraction)\n",
        "\n",
        "    Discussion points:\n",
        "    1. Why might a simpler classification head be sufficient for transfer learning?\n",
        "    2. When would you consider adding more layers to the classification head?\n",
        "    3. How does the number of trainable parameters affect training with small datasets?\n",
        "    \"\"\"\n",
        "    # Load pre-trained InceptionV3 with correct input size\n",
        "    base_model = tf.keras.applications.InceptionV3(\n",
        "        weights='imagenet',\n",
        "        include_top=False,\n",
        "        input_shape=(IMAGE_HEIGHT, IMAGE_WIDTH, 3)\n",
        "    )\n",
        "\n",
        "    # Freeze all layers for feature extraction\n",
        "    base_model.trainable = False\n",
        "\n",
        "    # Simple classification head\n",
        "    # - GlobalAveragePooling2D reduces spatial dimensions\n",
        "    # - Final Dense layer maps to class probabilities\n",
        "    model = tf.keras.Sequential([\n",
        "        base_model,\n",
        "        tf.keras.layers.GlobalAveragePooling2D(),\n",
        "        tf.keras.layers.Dropout(0.2),\n",
        "        tf.keras.layers.Dense(CLASSES, activation='softmax')\n",
        "    ])\n",
        "\n",
        "    return model"
      ]
    },
    {
      "cell_type": "markdown",
      "metadata": {
        "id": "KUK36M-NW4-1"
      },
      "source": [
        "### Fine-Tuning Last Few Layers\n",
        "\n",
        "1. Create a fine-tuning model using the Inception V3 architecture.\n",
        "2. Unfreeze the last few layers of the base model.\n",
        "3. Add a new classification head with global average pooling, dropout, and a dense layer.\n"
      ]
    },
    {
      "cell_type": "code",
      "execution_count": 87,
      "metadata": {
        "id": "_khIIV-zW4-1"
      },
      "outputs": [],
      "source": [
        "def create_fine_tuning_model():\n",
        "    \"\"\"Creates model with last few layers unfrozen for fine-tuning\"\"\"\n",
        "\n",
        "    # Load pre-trained InceptionV3 with correct input size\n",
        "    base_model = tf.keras.applications.InceptionV3(\n",
        "        weights='imagenet',\n",
        "        include_top=False,\n",
        "        input_shape=(IMAGE_HEIGHT, IMAGE_WIDTH, 3)\n",
        "    )\n",
        "\n",
        "    # Freeze all layers except last few blocks\n",
        "    base_model.trainable = True\n",
        "    for layer in base_model.layers[:-20]:  # Unfreeze last 20 layers\n",
        "        layer.trainable = False\n",
        "\n",
        "    model = tf.keras.Sequential([\n",
        "        base_model,\n",
        "        tf.keras.layers.GlobalAveragePooling2D(),\n",
        "        tf.keras.layers.Dropout(0.2),\n",
        "        tf.keras.layers.Dense(CLASSES, activation='softmax')\n",
        "    ])\n",
        "\n",
        "    return model\n"
      ]
    },
    {
      "cell_type": "markdown",
      "metadata": {
        "id": "mPRIXMlxW4-2"
      },
      "source": [
        "### Full Fine-Tuning\n",
        "\n",
        "1. Create a fine-tuning model using the Inception V3 architecture.\n",
        "2. Unfreeze all layers of the base model.\n",
        "3. Add a new classification head with global average pooling, dropout, and a dense layer."
      ]
    },
    {
      "cell_type": "code",
      "execution_count": 88,
      "metadata": {
        "id": "troP8F0VW4-2"
      },
      "outputs": [],
      "source": [
        "def create_full_fine_tuning_model():\n",
        "    \"\"\"Creates model with all layers unfrozen for full fine-tuning\"\"\"\n",
        "\n",
        "    base_model = tf.keras.applications.InceptionV3(\n",
        "        weights='imagenet',\n",
        "        include_top=False,\n",
        "        input_shape=(IMAGE_HEIGHT, IMAGE_WIDTH, 3)\n",
        "    )\n",
        "\n",
        "    # Make all layers trainable\n",
        "    base_model.trainable = True\n",
        "\n",
        "    model = tf.keras.Sequential([\n",
        "        base_model,\n",
        "        tf.keras.layers.GlobalAveragePooling2D(),\n",
        "        tf.keras.layers.Dense(1024, activation='relu'),\n",
        "        tf.keras.layers.Dropout(0.2),\n",
        "        tf.keras.layers.Dense(CLASSES, activation='softmax')\n",
        "    ])\n",
        "\n",
        "    return model\n"
      ]
    },
    {
      "cell_type": "markdown",
      "metadata": {
        "id": "CVds6rKVW4-2"
      },
      "source": [
        "## 4. Model Training\n",
        "\n",
        "## Tasks\n",
        "\n",
        "1. Optimize two different models either using the same transfer learning strategy and two of the three datasets with different sizes or alternatively use one of the datasets with two different learning strategies.\n",
        "\n",
        "2. Find out what the arguments of the early stopping callback function mean.\n",
        "\n",
        "3. Choose appropriate learning rates.\n",
        "Tips for choosing it:\n",
        "- Start with the Default: Begin with the Adam optimizer's default learning rate of 0.001. This is often a good starting point.\n",
        "- When fine-tuning (especially full fine-tuning), consider using a smaller learning rate than the default. This helps prevent large updates to the pre-trained weights, which could disrupt the learned features. A learning rate of 1e-4 or 1e-5 is a good starting point.\n",
        "- The best learning rate will depend on the specific dataset and model. Experiment with different values and observe the training and validation performance. Look for a learning rate that allows the model to converge smoothly without overshooting or getting stuck in a local minimum.\n",
        "\n"
      ]
    },
    {
      "cell_type": "markdown",
      "metadata": {
        "id": "xEvwEFNfSRtR"
      },
      "source": [
        "### Example for Training of the Feature Extraction Model with the Small Dataset"
      ]
    },
    {
      "cell_type": "code",
      "execution_count": 93,
      "metadata": {
        "id": "dN9XU7xYdW2n",
        "outputId": "1e6b26f5-482f-4f6d-a0b6-90ca515d306b",
        "colab": {
          "base_uri": "https://localhost:8080/",
          "height": 281
        }
      },
      "outputs": [
        {
          "output_type": "display_data",
          "data": {
            "text/plain": [
              "\u001b[1mModel: \"sequential_43\"\u001b[0m\n"
            ],
            "text/html": [
              "<pre style=\"white-space:pre;overflow-x:auto;line-height:normal;font-family:Menlo,'DejaVu Sans Mono',consolas,'Courier New',monospace\"><span style=\"font-weight: bold\">Model: \"sequential_43\"</span>\n",
              "</pre>\n"
            ]
          },
          "metadata": {}
        },
        {
          "output_type": "display_data",
          "data": {
            "text/plain": [
              "┏━━━━━━━━━━━━━━━━━━━━━━━━━━━━━━━━━━━━━━┳━━━━━━━━━━━━━━━━━━━━━━━━━━━━━┳━━━━━━━━━━━━━━━━━┓\n",
              "┃\u001b[1m \u001b[0m\u001b[1mLayer (type)                        \u001b[0m\u001b[1m \u001b[0m┃\u001b[1m \u001b[0m\u001b[1mOutput Shape               \u001b[0m\u001b[1m \u001b[0m┃\u001b[1m \u001b[0m\u001b[1m        Param #\u001b[0m\u001b[1m \u001b[0m┃\n",
              "┡━━━━━━━━━━━━━━━━━━━━━━━━━━━━━━━━━━━━━━╇━━━━━━━━━━━━━━━━━━━━━━━━━━━━━╇━━━━━━━━━━━━━━━━━┩\n",
              "│ inception_v3 (\u001b[38;5;33mFunctional\u001b[0m)            │ (\u001b[38;5;45mNone\u001b[0m, \u001b[38;5;34m3\u001b[0m, \u001b[38;5;34m3\u001b[0m, \u001b[38;5;34m2048\u001b[0m)          │      \u001b[38;5;34m21,802,784\u001b[0m │\n",
              "├──────────────────────────────────────┼─────────────────────────────┼─────────────────┤\n",
              "│ global_average_pooling2d_9           │ (\u001b[38;5;45mNone\u001b[0m, \u001b[38;5;34m2048\u001b[0m)                │               \u001b[38;5;34m0\u001b[0m │\n",
              "│ (\u001b[38;5;33mGlobalAveragePooling2D\u001b[0m)             │                             │                 │\n",
              "├──────────────────────────────────────┼─────────────────────────────┼─────────────────┤\n",
              "│ dropout_9 (\u001b[38;5;33mDropout\u001b[0m)                  │ (\u001b[38;5;45mNone\u001b[0m, \u001b[38;5;34m2048\u001b[0m)                │               \u001b[38;5;34m0\u001b[0m │\n",
              "├──────────────────────────────────────┼─────────────────────────────┼─────────────────┤\n",
              "│ dense_9 (\u001b[38;5;33mDense\u001b[0m)                      │ (\u001b[38;5;45mNone\u001b[0m, \u001b[38;5;34m3\u001b[0m)                   │           \u001b[38;5;34m6,147\u001b[0m │\n",
              "└──────────────────────────────────────┴─────────────────────────────┴─────────────────┘\n"
            ],
            "text/html": [
              "<pre style=\"white-space:pre;overflow-x:auto;line-height:normal;font-family:Menlo,'DejaVu Sans Mono',consolas,'Courier New',monospace\">┏━━━━━━━━━━━━━━━━━━━━━━━━━━━━━━━━━━━━━━┳━━━━━━━━━━━━━━━━━━━━━━━━━━━━━┳━━━━━━━━━━━━━━━━━┓\n",
              "┃<span style=\"font-weight: bold\"> Layer (type)                         </span>┃<span style=\"font-weight: bold\"> Output Shape                </span>┃<span style=\"font-weight: bold\">         Param # </span>┃\n",
              "┡━━━━━━━━━━━━━━━━━━━━━━━━━━━━━━━━━━━━━━╇━━━━━━━━━━━━━━━━━━━━━━━━━━━━━╇━━━━━━━━━━━━━━━━━┩\n",
              "│ inception_v3 (<span style=\"color: #0087ff; text-decoration-color: #0087ff\">Functional</span>)            │ (<span style=\"color: #00d7ff; text-decoration-color: #00d7ff\">None</span>, <span style=\"color: #00af00; text-decoration-color: #00af00\">3</span>, <span style=\"color: #00af00; text-decoration-color: #00af00\">3</span>, <span style=\"color: #00af00; text-decoration-color: #00af00\">2048</span>)          │      <span style=\"color: #00af00; text-decoration-color: #00af00\">21,802,784</span> │\n",
              "├──────────────────────────────────────┼─────────────────────────────┼─────────────────┤\n",
              "│ global_average_pooling2d_9           │ (<span style=\"color: #00d7ff; text-decoration-color: #00d7ff\">None</span>, <span style=\"color: #00af00; text-decoration-color: #00af00\">2048</span>)                │               <span style=\"color: #00af00; text-decoration-color: #00af00\">0</span> │\n",
              "│ (<span style=\"color: #0087ff; text-decoration-color: #0087ff\">GlobalAveragePooling2D</span>)             │                             │                 │\n",
              "├──────────────────────────────────────┼─────────────────────────────┼─────────────────┤\n",
              "│ dropout_9 (<span style=\"color: #0087ff; text-decoration-color: #0087ff\">Dropout</span>)                  │ (<span style=\"color: #00d7ff; text-decoration-color: #00d7ff\">None</span>, <span style=\"color: #00af00; text-decoration-color: #00af00\">2048</span>)                │               <span style=\"color: #00af00; text-decoration-color: #00af00\">0</span> │\n",
              "├──────────────────────────────────────┼─────────────────────────────┼─────────────────┤\n",
              "│ dense_9 (<span style=\"color: #0087ff; text-decoration-color: #0087ff\">Dense</span>)                      │ (<span style=\"color: #00d7ff; text-decoration-color: #00d7ff\">None</span>, <span style=\"color: #00af00; text-decoration-color: #00af00\">3</span>)                   │           <span style=\"color: #00af00; text-decoration-color: #00af00\">6,147</span> │\n",
              "└──────────────────────────────────────┴─────────────────────────────┴─────────────────┘\n",
              "</pre>\n"
            ]
          },
          "metadata": {}
        },
        {
          "output_type": "display_data",
          "data": {
            "text/plain": [
              "\u001b[1m Total params: \u001b[0m\u001b[38;5;34m21,808,931\u001b[0m (83.19 MB)\n"
            ],
            "text/html": [
              "<pre style=\"white-space:pre;overflow-x:auto;line-height:normal;font-family:Menlo,'DejaVu Sans Mono',consolas,'Courier New',monospace\"><span style=\"font-weight: bold\"> Total params: </span><span style=\"color: #00af00; text-decoration-color: #00af00\">21,808,931</span> (83.19 MB)\n",
              "</pre>\n"
            ]
          },
          "metadata": {}
        },
        {
          "output_type": "display_data",
          "data": {
            "text/plain": [
              "\u001b[1m Trainable params: \u001b[0m\u001b[38;5;34m6,147\u001b[0m (24.01 KB)\n"
            ],
            "text/html": [
              "<pre style=\"white-space:pre;overflow-x:auto;line-height:normal;font-family:Menlo,'DejaVu Sans Mono',consolas,'Courier New',monospace\"><span style=\"font-weight: bold\"> Trainable params: </span><span style=\"color: #00af00; text-decoration-color: #00af00\">6,147</span> (24.01 KB)\n",
              "</pre>\n"
            ]
          },
          "metadata": {}
        },
        {
          "output_type": "display_data",
          "data": {
            "text/plain": [
              "\u001b[1m Non-trainable params: \u001b[0m\u001b[38;5;34m21,802,784\u001b[0m (83.17 MB)\n"
            ],
            "text/html": [
              "<pre style=\"white-space:pre;overflow-x:auto;line-height:normal;font-family:Menlo,'DejaVu Sans Mono',consolas,'Courier New',monospace\"><span style=\"font-weight: bold\"> Non-trainable params: </span><span style=\"color: #00af00; text-decoration-color: #00af00\">21,802,784</span> (83.17 MB)\n",
              "</pre>\n"
            ]
          },
          "metadata": {}
        }
      ],
      "source": [
        "LEARNING_RATE = 0.0001 # Choose appropriately\n",
        "\n",
        "# Settings for the Feature Extraction Model on the small dataset\n",
        "model_feature_extraction_small = create_feature_extraction_model()\n",
        "model_feature_extraction_small.compile(\n",
        "    optimizer=tf.keras.optimizers.Adam(LEARNING_RATE),\n",
        "    loss=tf.keras.losses.SparseCategoricalCrossentropy(),\n",
        "    metrics=['accuracy']\n",
        ")\n",
        "# Model Summary\n",
        "model_feature_extraction_small.summary()\n"
      ]
    },
    {
      "cell_type": "code",
      "source": [
        "def to_integer_labels(images, labels):\n",
        "    return images, tf.argmax(labels, axis=1)\n",
        "\n",
        "train_data_small = train_data_small.map(to_integer_labels)"
      ],
      "metadata": {
        "id": "50Ep9p4QkNut"
      },
      "execution_count": 90,
      "outputs": []
    },
    {
      "cell_type": "code",
      "execution_count": 94,
      "metadata": {
        "id": "YoHtBg-0W4-2",
        "outputId": "993f2904-af42-4371-e960-ba6746cacb46",
        "colab": {
          "base_uri": "https://localhost:8080/"
        }
      },
      "outputs": [
        {
          "output_type": "stream",
          "name": "stdout",
          "text": [
            "Epoch 1/100\n",
            "\u001b[1m3/3\u001b[0m \u001b[32m━━━━━━━━━━━━━━━━━━━━\u001b[0m\u001b[37m\u001b[0m \u001b[1m16s\u001b[0m 3s/step - accuracy: 0.3067 - loss: 1.7847 - val_accuracy: 0.3767 - val_loss: 1.6146\n",
            "Epoch 2/100\n",
            "\u001b[1m3/3\u001b[0m \u001b[32m━━━━━━━━━━━━━━━━━━━━\u001b[0m\u001b[37m\u001b[0m \u001b[1m2s\u001b[0m 869ms/step - accuracy: 0.3325 - loss: 1.6381 - val_accuracy: 0.3878 - val_loss: 1.5057\n",
            "Epoch 3/100\n",
            "\u001b[1m3/3\u001b[0m \u001b[32m━━━━━━━━━━━━━━━━━━━━\u001b[0m\u001b[37m\u001b[0m \u001b[1m3s\u001b[0m 891ms/step - accuracy: 0.4367 - loss: 1.3154 - val_accuracy: 0.3944 - val_loss: 1.4460\n",
            "Epoch 4/100\n",
            "\u001b[1m3/3\u001b[0m \u001b[32m━━━━━━━━━━━━━━━━━━━━\u001b[0m\u001b[37m\u001b[0m \u001b[1m3s\u001b[0m 1s/step - accuracy: 0.4400 - loss: 1.4138 - val_accuracy: 0.4133 - val_loss: 1.4013\n",
            "Epoch 5/100\n",
            "\u001b[1m3/3\u001b[0m \u001b[32m━━━━━━━━━━━━━━━━━━━━\u001b[0m\u001b[37m\u001b[0m \u001b[1m5s\u001b[0m 1s/step - accuracy: 0.3867 - loss: 1.7254 - val_accuracy: 0.4256 - val_loss: 1.3584\n",
            "Epoch 6/100\n",
            "\u001b[1m3/3\u001b[0m \u001b[32m━━━━━━━━━━━━━━━━━━━━\u001b[0m\u001b[37m\u001b[0m \u001b[1m5s\u001b[0m 873ms/step - accuracy: 0.4500 - loss: 1.3496 - val_accuracy: 0.4389 - val_loss: 1.3231\n",
            "Epoch 7/100\n",
            "\u001b[1m3/3\u001b[0m \u001b[32m━━━━━━━━━━━━━━━━━━━━\u001b[0m\u001b[37m\u001b[0m \u001b[1m3s\u001b[0m 1s/step - accuracy: 0.4183 - loss: 1.4110 - val_accuracy: 0.4578 - val_loss: 1.2978\n",
            "Epoch 8/100\n",
            "\u001b[1m3/3\u001b[0m \u001b[32m━━━━━━━━━━━━━━━━━━━━\u001b[0m\u001b[37m\u001b[0m \u001b[1m5s\u001b[0m 885ms/step - accuracy: 0.4800 - loss: 1.3566 - val_accuracy: 0.4744 - val_loss: 1.2762\n",
            "Epoch 9/100\n",
            "\u001b[1m3/3\u001b[0m \u001b[32m━━━━━━━━━━━━━━━━━━━━\u001b[0m\u001b[37m\u001b[0m \u001b[1m3s\u001b[0m 1s/step - accuracy: 0.4983 - loss: 1.3108 - val_accuracy: 0.4789 - val_loss: 1.2529\n",
            "Epoch 10/100\n",
            "\u001b[1m3/3\u001b[0m \u001b[32m━━━━━━━━━━━━━━━━━━━━\u001b[0m\u001b[37m\u001b[0m \u001b[1m3s\u001b[0m 1s/step - accuracy: 0.4092 - loss: 1.4091 - val_accuracy: 0.4956 - val_loss: 1.2358\n",
            "Epoch 11/100\n",
            "\u001b[1m3/3\u001b[0m \u001b[32m━━━━━━━━━━━━━━━━━━━━\u001b[0m\u001b[37m\u001b[0m \u001b[1m4s\u001b[0m 2s/step - accuracy: 0.4617 - loss: 1.3434 - val_accuracy: 0.5022 - val_loss: 1.2205\n",
            "Epoch 12/100\n",
            "\u001b[1m3/3\u001b[0m \u001b[32m━━━━━━━━━━━━━━━━━━━━\u001b[0m\u001b[37m\u001b[0m \u001b[1m2s\u001b[0m 873ms/step - accuracy: 0.4833 - loss: 1.2694 - val_accuracy: 0.5233 - val_loss: 1.1886\n",
            "Epoch 13/100\n",
            "\u001b[1m3/3\u001b[0m \u001b[32m━━━━━━━━━━━━━━━━━━━━\u001b[0m\u001b[37m\u001b[0m \u001b[1m2s\u001b[0m 821ms/step - accuracy: 0.4450 - loss: 1.2608 - val_accuracy: 0.5367 - val_loss: 1.1529\n",
            "Epoch 14/100\n",
            "\u001b[1m3/3\u001b[0m \u001b[32m━━━━━━━━━━━━━━━━━━━━\u001b[0m\u001b[37m\u001b[0m \u001b[1m3s\u001b[0m 1s/step - accuracy: 0.4533 - loss: 1.3426 - val_accuracy: 0.5433 - val_loss: 1.1250\n",
            "Epoch 15/100\n",
            "\u001b[1m3/3\u001b[0m \u001b[32m━━━━━━━━━━━━━━━━━━━━\u001b[0m\u001b[37m\u001b[0m \u001b[1m2s\u001b[0m 854ms/step - accuracy: 0.4867 - loss: 1.1643 - val_accuracy: 0.5589 - val_loss: 1.0966\n",
            "Epoch 16/100\n",
            "\u001b[1m3/3\u001b[0m \u001b[32m━━━━━━━━━━━━━━━━━━━━\u001b[0m\u001b[37m\u001b[0m \u001b[1m3s\u001b[0m 1s/step - accuracy: 0.5592 - loss: 1.1194 - val_accuracy: 0.5689 - val_loss: 1.0686\n",
            "Epoch 17/100\n",
            "\u001b[1m3/3\u001b[0m \u001b[32m━━━━━━━━━━━━━━━━━━━━\u001b[0m\u001b[37m\u001b[0m \u001b[1m5s\u001b[0m 937ms/step - accuracy: 0.6250 - loss: 1.0000 - val_accuracy: 0.5789 - val_loss: 1.0463\n",
            "Epoch 18/100\n",
            "\u001b[1m3/3\u001b[0m \u001b[32m━━━━━━━━━━━━━━━━━━━━\u001b[0m\u001b[37m\u001b[0m \u001b[1m2s\u001b[0m 859ms/step - accuracy: 0.5492 - loss: 0.9428 - val_accuracy: 0.5911 - val_loss: 1.0328\n",
            "Epoch 19/100\n",
            "\u001b[1m3/3\u001b[0m \u001b[32m━━━━━━━━━━━━━━━━━━━━\u001b[0m\u001b[37m\u001b[0m \u001b[1m3s\u001b[0m 1s/step - accuracy: 0.5383 - loss: 1.0516 - val_accuracy: 0.5989 - val_loss: 1.0167\n",
            "Epoch 20/100\n",
            "\u001b[1m3/3\u001b[0m \u001b[32m━━━━━━━━━━━━━━━━━━━━\u001b[0m\u001b[37m\u001b[0m \u001b[1m5s\u001b[0m 1s/step - accuracy: 0.5875 - loss: 1.0340 - val_accuracy: 0.6033 - val_loss: 0.9990\n",
            "Epoch 21/100\n",
            "\u001b[1m3/3\u001b[0m \u001b[32m━━━━━━━━━━━━━━━━━━━━\u001b[0m\u001b[37m\u001b[0m \u001b[1m3s\u001b[0m 1s/step - accuracy: 0.5767 - loss: 1.0465 - val_accuracy: 0.6078 - val_loss: 0.9837\n",
            "Epoch 22/100\n",
            "\u001b[1m3/3\u001b[0m \u001b[32m━━━━━━━━━━━━━━━━━━━━\u001b[0m\u001b[37m\u001b[0m \u001b[1m2s\u001b[0m 836ms/step - accuracy: 0.6267 - loss: 1.0311 - val_accuracy: 0.6178 - val_loss: 0.9653\n",
            "Epoch 23/100\n",
            "\u001b[1m3/3\u001b[0m \u001b[32m━━━━━━━━━━━━━━━━━━━━\u001b[0m\u001b[37m\u001b[0m \u001b[1m3s\u001b[0m 1s/step - accuracy: 0.5008 - loss: 1.0978 - val_accuracy: 0.6256 - val_loss: 0.9399\n",
            "Epoch 24/100\n",
            "\u001b[1m3/3\u001b[0m \u001b[32m━━━━━━━━━━━━━━━━━━━━\u001b[0m\u001b[37m\u001b[0m \u001b[1m5s\u001b[0m 895ms/step - accuracy: 0.6725 - loss: 0.8751 - val_accuracy: 0.6367 - val_loss: 0.9102\n",
            "Epoch 25/100\n",
            "\u001b[1m3/3\u001b[0m \u001b[32m━━━━━━━━━━━━━━━━━━━━\u001b[0m\u001b[37m\u001b[0m \u001b[1m2s\u001b[0m 897ms/step - accuracy: 0.5592 - loss: 1.1559 - val_accuracy: 0.6444 - val_loss: 0.8865\n",
            "Epoch 26/100\n",
            "\u001b[1m3/3\u001b[0m \u001b[32m━━━━━━━━━━━━━━━━━━━━\u001b[0m\u001b[37m\u001b[0m \u001b[1m2s\u001b[0m 880ms/step - accuracy: 0.6092 - loss: 0.9158 - val_accuracy: 0.6556 - val_loss: 0.8723\n",
            "Epoch 27/100\n",
            "\u001b[1m3/3\u001b[0m \u001b[32m━━━━━━━━━━━━━━━━━━━━\u001b[0m\u001b[37m\u001b[0m \u001b[1m2s\u001b[0m 909ms/step - accuracy: 0.5717 - loss: 0.8900 - val_accuracy: 0.6611 - val_loss: 0.8656\n",
            "Epoch 28/100\n",
            "\u001b[1m3/3\u001b[0m \u001b[32m━━━━━━━━━━━━━━━━━━━━\u001b[0m\u001b[37m\u001b[0m \u001b[1m3s\u001b[0m 990ms/step - accuracy: 0.6333 - loss: 0.8225 - val_accuracy: 0.6611 - val_loss: 0.8609\n",
            "Epoch 29/100\n",
            "\u001b[1m3/3\u001b[0m \u001b[32m━━━━━━━━━━━━━━━━━━━━\u001b[0m\u001b[37m\u001b[0m \u001b[1m3s\u001b[0m 1s/step - accuracy: 0.6033 - loss: 0.9674 - val_accuracy: 0.6678 - val_loss: 0.8481\n",
            "Epoch 30/100\n",
            "\u001b[1m3/3\u001b[0m \u001b[32m━━━━━━━━━━━━━━━━━━━━\u001b[0m\u001b[37m\u001b[0m \u001b[1m3s\u001b[0m 1s/step - accuracy: 0.6842 - loss: 0.7916 - val_accuracy: 0.6722 - val_loss: 0.8386\n",
            "Epoch 31/100\n",
            "\u001b[1m3/3\u001b[0m \u001b[32m━━━━━━━━━━━━━━━━━━━━\u001b[0m\u001b[37m\u001b[0m \u001b[1m5s\u001b[0m 962ms/step - accuracy: 0.6133 - loss: 0.8899 - val_accuracy: 0.6767 - val_loss: 0.8309\n",
            "Epoch 32/100\n",
            "\u001b[1m3/3\u001b[0m \u001b[32m━━━━━━━━━━━━━━━━━━━━\u001b[0m\u001b[37m\u001b[0m \u001b[1m3s\u001b[0m 1s/step - accuracy: 0.6758 - loss: 0.7566 - val_accuracy: 0.6789 - val_loss: 0.8322\n",
            "Epoch 33/100\n",
            "\u001b[1m3/3\u001b[0m \u001b[32m━━━━━━━━━━━━━━━━━━━━\u001b[0m\u001b[37m\u001b[0m \u001b[1m2s\u001b[0m 877ms/step - accuracy: 0.6492 - loss: 0.8939 - val_accuracy: 0.6811 - val_loss: 0.8301\n",
            "Epoch 34/100\n",
            "\u001b[1m3/3\u001b[0m \u001b[32m━━━━━━━━━━━━━━━━━━━━\u001b[0m\u001b[37m\u001b[0m \u001b[1m2s\u001b[0m 803ms/step - accuracy: 0.6625 - loss: 0.8582 - val_accuracy: 0.6744 - val_loss: 0.8260\n",
            "Epoch 35/100\n",
            "\u001b[1m3/3\u001b[0m \u001b[32m━━━━━━━━━━━━━━━━━━━━\u001b[0m\u001b[37m\u001b[0m \u001b[1m2s\u001b[0m 800ms/step - accuracy: 0.6592 - loss: 0.8579 - val_accuracy: 0.6789 - val_loss: 0.8280\n",
            "Epoch 36/100\n",
            "\u001b[1m3/3\u001b[0m \u001b[32m━━━━━━━━━━━━━━━━━━━━\u001b[0m\u001b[37m\u001b[0m \u001b[1m3s\u001b[0m 880ms/step - accuracy: 0.6908 - loss: 0.7510 - val_accuracy: 0.6833 - val_loss: 0.8161\n",
            "Epoch 37/100\n",
            "\u001b[1m3/3\u001b[0m \u001b[32m━━━━━━━━━━━━━━━━━━━━\u001b[0m\u001b[37m\u001b[0m \u001b[1m3s\u001b[0m 1s/step - accuracy: 0.6583 - loss: 0.9549 - val_accuracy: 0.6944 - val_loss: 0.7924\n",
            "Epoch 38/100\n",
            "\u001b[1m3/3\u001b[0m \u001b[32m━━━━━━━━━━━━━━━━━━━━\u001b[0m\u001b[37m\u001b[0m \u001b[1m2s\u001b[0m 873ms/step - accuracy: 0.6167 - loss: 0.8806 - val_accuracy: 0.6978 - val_loss: 0.7743\n",
            "Epoch 39/100\n",
            "\u001b[1m3/3\u001b[0m \u001b[32m━━━━━━━━━━━━━━━━━━━━\u001b[0m\u001b[37m\u001b[0m \u001b[1m2s\u001b[0m 886ms/step - accuracy: 0.6608 - loss: 0.8835 - val_accuracy: 0.7033 - val_loss: 0.7602\n",
            "Epoch 40/100\n",
            "\u001b[1m3/3\u001b[0m \u001b[32m━━━━━━━━━━━━━━━━━━━━\u001b[0m\u001b[37m\u001b[0m \u001b[1m2s\u001b[0m 885ms/step - accuracy: 0.7467 - loss: 0.7954 - val_accuracy: 0.7067 - val_loss: 0.7585\n",
            "Epoch 41/100\n",
            "\u001b[1m3/3\u001b[0m \u001b[32m━━━━━━━━━━━━━━━━━━━━\u001b[0m\u001b[37m\u001b[0m \u001b[1m2s\u001b[0m 799ms/step - accuracy: 0.7017 - loss: 0.7038 - val_accuracy: 0.7022 - val_loss: 0.7668\n",
            "Epoch 42/100\n",
            "\u001b[1m3/3\u001b[0m \u001b[32m━━━━━━━━━━━━━━━━━━━━\u001b[0m\u001b[37m\u001b[0m \u001b[1m3s\u001b[0m 1s/step - accuracy: 0.6383 - loss: 0.8476 - val_accuracy: 0.7078 - val_loss: 0.7623\n",
            "Epoch 43/100\n",
            "\u001b[1m3/3\u001b[0m \u001b[32m━━━━━━━━━━━━━━━━━━━━\u001b[0m\u001b[37m\u001b[0m \u001b[1m2s\u001b[0m 836ms/step - accuracy: 0.6833 - loss: 0.7436 - val_accuracy: 0.7100 - val_loss: 0.7572\n",
            "Epoch 44/100\n",
            "\u001b[1m3/3\u001b[0m \u001b[32m━━━━━━━━━━━━━━━━━━━━\u001b[0m\u001b[37m\u001b[0m \u001b[1m3s\u001b[0m 1s/step - accuracy: 0.7567 - loss: 0.6796 - val_accuracy: 0.7144 - val_loss: 0.7481\n",
            "Epoch 45/100\n",
            "\u001b[1m3/3\u001b[0m \u001b[32m━━━━━━━━━━━━━━━━━━━━\u001b[0m\u001b[37m\u001b[0m \u001b[1m3s\u001b[0m 1s/step - accuracy: 0.6992 - loss: 0.7312 - val_accuracy: 0.7167 - val_loss: 0.7381\n",
            "Epoch 46/100\n",
            "\u001b[1m3/3\u001b[0m \u001b[32m━━━━━━━━━━━━━━━━━━━━\u001b[0m\u001b[37m\u001b[0m \u001b[1m2s\u001b[0m 1s/step - accuracy: 0.7558 - loss: 0.6739 - val_accuracy: 0.7189 - val_loss: 0.7188\n",
            "Epoch 47/100\n",
            "\u001b[1m3/3\u001b[0m \u001b[32m━━━━━━━━━━━━━━━━━━━━\u001b[0m\u001b[37m\u001b[0m \u001b[1m4s\u001b[0m 1s/step - accuracy: 0.6975 - loss: 0.7953 - val_accuracy: 0.7233 - val_loss: 0.7014\n",
            "Epoch 48/100\n",
            "\u001b[1m3/3\u001b[0m \u001b[32m━━━━━━━━━━━━━━━━━━━━\u001b[0m\u001b[37m\u001b[0m \u001b[1m2s\u001b[0m 909ms/step - accuracy: 0.7408 - loss: 0.6147 - val_accuracy: 0.7256 - val_loss: 0.6902\n",
            "Epoch 49/100\n",
            "\u001b[1m3/3\u001b[0m \u001b[32m━━━━━━━━━━━━━━━━━━━━\u001b[0m\u001b[37m\u001b[0m \u001b[1m2s\u001b[0m 781ms/step - accuracy: 0.6283 - loss: 0.8308 - val_accuracy: 0.7256 - val_loss: 0.6938\n",
            "Epoch 50/100\n",
            "\u001b[1m3/3\u001b[0m \u001b[32m━━━━━━━━━━━━━━━━━━━━\u001b[0m\u001b[37m\u001b[0m \u001b[1m3s\u001b[0m 860ms/step - accuracy: 0.6800 - loss: 0.8135 - val_accuracy: 0.7311 - val_loss: 0.6969\n",
            "Epoch 51/100\n",
            "\u001b[1m3/3\u001b[0m \u001b[32m━━━━━━━━━━━━━━━━━━━━\u001b[0m\u001b[37m\u001b[0m \u001b[1m2s\u001b[0m 800ms/step - accuracy: 0.7783 - loss: 0.6343 - val_accuracy: 0.7311 - val_loss: 0.7064\n",
            "Epoch 52/100\n",
            "\u001b[1m3/3\u001b[0m \u001b[32m━━━━━━━━━━━━━━━━━━━━\u001b[0m\u001b[37m\u001b[0m \u001b[1m2s\u001b[0m 918ms/step - accuracy: 0.7058 - loss: 0.7442 - val_accuracy: 0.7322 - val_loss: 0.7135\n",
            "Epoch 53/100\n",
            "\u001b[1m3/3\u001b[0m \u001b[32m━━━━━━━━━━━━━━━━━━━━\u001b[0m\u001b[37m\u001b[0m \u001b[1m3s\u001b[0m 959ms/step - accuracy: 0.6758 - loss: 0.8144 - val_accuracy: 0.7322 - val_loss: 0.7106\n",
            "Epoch 54/100\n",
            "\u001b[1m3/3\u001b[0m \u001b[32m━━━━━━━━━━━━━━━━━━━━\u001b[0m\u001b[37m\u001b[0m \u001b[1m2s\u001b[0m 878ms/step - accuracy: 0.7050 - loss: 0.8041 - val_accuracy: 0.7378 - val_loss: 0.7008\n",
            "Epoch 55/100\n",
            "\u001b[1m3/3\u001b[0m \u001b[32m━━━━━━━━━━━━━━━━━━━━\u001b[0m\u001b[37m\u001b[0m \u001b[1m2s\u001b[0m 873ms/step - accuracy: 0.7558 - loss: 0.7196 - val_accuracy: 0.7422 - val_loss: 0.6845\n",
            "Epoch 56/100\n",
            "\u001b[1m3/3\u001b[0m \u001b[32m━━━━━━━━━━━━━━━━━━━━\u001b[0m\u001b[37m\u001b[0m \u001b[1m3s\u001b[0m 901ms/step - accuracy: 0.7317 - loss: 0.7193 - val_accuracy: 0.7467 - val_loss: 0.6829\n",
            "Epoch 57/100\n",
            "\u001b[1m3/3\u001b[0m \u001b[32m━━━━━━━━━━━━━━━━━━━━\u001b[0m\u001b[37m\u001b[0m \u001b[1m3s\u001b[0m 1s/step - accuracy: 0.7458 - loss: 0.6452 - val_accuracy: 0.7478 - val_loss: 0.6777\n",
            "Epoch 58/100\n",
            "\u001b[1m3/3\u001b[0m \u001b[32m━━━━━━━━━━━━━━━━━━━━\u001b[0m\u001b[37m\u001b[0m \u001b[1m5s\u001b[0m 925ms/step - accuracy: 0.7475 - loss: 0.5996 - val_accuracy: 0.7533 - val_loss: 0.6671\n",
            "Epoch 59/100\n",
            "\u001b[1m3/3\u001b[0m \u001b[32m━━━━━━━━━━━━━━━━━━━━\u001b[0m\u001b[37m\u001b[0m \u001b[1m3s\u001b[0m 1s/step - accuracy: 0.6783 - loss: 0.6429 - val_accuracy: 0.7544 - val_loss: 0.6690\n",
            "Epoch 60/100\n",
            "\u001b[1m3/3\u001b[0m \u001b[32m━━━━━━━━━━━━━━━━━━━━\u001b[0m\u001b[37m\u001b[0m \u001b[1m2s\u001b[0m 831ms/step - accuracy: 0.6992 - loss: 0.7015 - val_accuracy: 0.7533 - val_loss: 0.6666\n",
            "Epoch 61/100\n",
            "\u001b[1m3/3\u001b[0m \u001b[32m━━━━━━━━━━━━━━━━━━━━\u001b[0m\u001b[37m\u001b[0m \u001b[1m3s\u001b[0m 924ms/step - accuracy: 0.7325 - loss: 0.6649 - val_accuracy: 0.7522 - val_loss: 0.6553\n",
            "Epoch 62/100\n",
            "\u001b[1m3/3\u001b[0m \u001b[32m━━━━━━━━━━━━━━━━━━━━\u001b[0m\u001b[37m\u001b[0m \u001b[1m3s\u001b[0m 1s/step - accuracy: 0.7500 - loss: 0.6436 - val_accuracy: 0.7544 - val_loss: 0.6509\n"
          ]
        }
      ],
      "source": [
        "history_feature_extraction_small = model_feature_extraction_small.fit(\n",
        "    train_data_small,\n",
        "    validation_data=validation_data,\n",
        "    epochs=100,\n",
        "    callbacks=[\n",
        "        tf.keras.callbacks.EarlyStopping(\n",
        "            monitor='val_accuracy',\n",
        "            patience=3,\n",
        "            restore_best_weights=True\n",
        "        )\n",
        "    ]\n",
        ")"
      ]
    },
    {
      "cell_type": "code",
      "source": [
        "import matplotlib.pyplot as plt\n",
        "\n",
        "# Plot the model training history\n",
        "def plot_training_history(history):\n",
        "    # Extracting accuracy and loss from the history object\n",
        "    acc = history.history['accuracy']\n",
        "    val_acc = history.history['val_accuracy']\n",
        "    loss = history.history['loss']\n",
        "    val_loss = history.history['val_loss']\n",
        "\n",
        "    # Setting up the number of epochs for the x-axis\n",
        "    epochs_range = range(1, len(acc) + 1)\n",
        "\n",
        "    # Plotting training and validation accuracy\n",
        "    fig, ax = plt.subplots(1,2, figsize=(12, 6))\n",
        "    ax[0].plot(epochs_range, acc, label='Training Accuracy')\n",
        "    ax[0].plot(epochs_range, val_acc, label='Validation Accuracy')\n",
        "    ax[0].set_xlabel('Epochs')\n",
        "    ax[0].set_ylabel('Accuracy')\n",
        "    ax[0].set_title('Training and Validation Accuracy')\n",
        "    ax[0].legend()\n",
        "    ax[1].plot(epochs_range, loss, label='Training Loss')\n",
        "    ax[1].plot(epochs_range, val_loss, label='Validation Loss')\n",
        "    ax[1].set_title('Training and validation loss')\n",
        "    ax[1].set_xlabel('epochs')\n",
        "    ax[1].set_ylabel('loss')\n",
        "    ax[1].legend()\n",
        "\n",
        "    plt.show()\n",
        "\n",
        "plot_training_history(history_feature_extraction_small)"
      ],
      "metadata": {
        "id": "ZSbWXJdqo-pD",
        "outputId": "c519f4c5-9e9f-4a90-b2cd-29c956a673d4",
        "colab": {
          "base_uri": "https://localhost:8080/",
          "height": 564
        }
      },
      "execution_count": 95,
      "outputs": [
        {
          "output_type": "display_data",
          "data": {
            "text/plain": [
              "<Figure size 1200x600 with 2 Axes>"
            ],
            "image/png": "[encoded data removed]"
          },
          "metadata": {}
        }
      ]
    }
  ],
  "metadata": {
    "accelerator": "GPU",
    "colab": {
      "gpuType": "T4",
      "provenance": []
    },
    "kernelspec": {
      "display_name": "Python 3",
      "name": "python3"
    },
    "language_info": {
      "codemirror_mode": {
        "name": "ipython",
        "version": 3
      },
      "file_extension": ".py",
      "mimetype": "text/x-python",
      "name": "python",
      "nbconvert_exporter": "python",
      "pygments_lexer": "ipython3",
      "version": "3.10.12"
    }
  },
  "nbformat": 4,
  "nbformat_minor": 0
}